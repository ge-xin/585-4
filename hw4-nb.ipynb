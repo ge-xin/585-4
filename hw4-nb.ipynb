
# coding: utf-8

# In[2]:

import tensorflow as tf

a = tf.to_float(tf.constant([5,2,8]))
b = tf.to_float(tf.constant([3,1,2]))
c = tf.sqrt(tf.add(tf.square(a), tf.square(b)))

session = tf.InteractiveSession()
result = session.run(c)
print result


# In[ ]:



